{
 "cells": [
  {
   "cell_type": "code",
   "execution_count": 144,
   "metadata": {},
   "outputs": [
    {
     "data": {
      "text/html": [
       "<div>\n",
       "<style scoped>\n",
       "    .dataframe tbody tr th:only-of-type {\n",
       "        vertical-align: middle;\n",
       "    }\n",
       "\n",
       "    .dataframe tbody tr th {\n",
       "        vertical-align: top;\n",
       "    }\n",
       "\n",
       "    .dataframe thead th {\n",
       "        text-align: right;\n",
       "    }\n",
       "</style>\n",
       "<table border=\"1\" class=\"dataframe\">\n",
       "  <thead>\n",
       "    <tr style=\"text-align: right;\">\n",
       "      <th></th>\n",
       "      <th>species_name</th>\n",
       "      <th>prot_id</th>\n",
       "      <th>gene_id</th>\n",
       "      <th>biological_process_go</th>\n",
       "      <th>biological_process_go_name</th>\n",
       "      <th>molecular_function_go</th>\n",
       "      <th>molecular_function_go_name</th>\n",
       "      <th>cellular_component_go</th>\n",
       "      <th>cellular_component_go_name</th>\n",
       "      <th>domains</th>\n",
       "      <th>...</th>\n",
       "      <th>repeats</th>\n",
       "      <th>repeat_accessions</th>\n",
       "      <th>repeat_locations</th>\n",
       "      <th>other_features</th>\n",
       "      <th>other_feature_accessions</th>\n",
       "      <th>other_feature_locations</th>\n",
       "      <th>targeting_guide</th>\n",
       "      <th>target_strand</th>\n",
       "      <th>guide_nuc_start_position</th>\n",
       "      <th>prot_ranges</th>\n",
       "    </tr>\n",
       "  </thead>\n",
       "  <tbody>\n",
       "    <tr>\n",
       "      <th>0</th>\n",
       "      <td>kluyveromyces_lactis_cds.fna</td>\n",
       "      <td>XP_451741.1</td>\n",
       "      <td>lcl|NC_006038.1_cds_XP_451741.1_696</td>\n",
       "      <td>N/A</td>\n",
       "      <td>N/A</td>\n",
       "      <td>GO:0003755</td>\n",
       "      <td>peptidyl-prolyl cis-trans isomerase activity</td>\n",
       "      <td>GO:0000785;GO:0005730</td>\n",
       "      <td>chromatin;nucleolus</td>\n",
       "      <td>PPIase_FKBP_dom;NPL;PPIase_FKBP_dom</td>\n",
       "      <td>...</td>\n",
       "      <td>N/A</td>\n",
       "      <td>N/A</td>\n",
       "      <td>N/A</td>\n",
       "      <td>Coil;Nucleoplasmin core domain;disorder_predic...</td>\n",
       "      <td>Coil;G3DSA:2.60.120.340;mobidb-lite;SSF54534;C...</td>\n",
       "      <td>103-123;9-181;172-273;264-418;250-288;11-417;1...</td>\n",
       "      <td>AGAGGAAGAGGAAGAGGAAG</td>\n",
       "      <td>+</td>\n",
       "      <td>321</td>\n",
       "      <td>107-115</td>\n",
       "    </tr>\n",
       "    <tr>\n",
       "      <th>1</th>\n",
       "      <td>kluyveromyces_lactis_cds.fna</td>\n",
       "      <td>XP_451741.1</td>\n",
       "      <td>lcl|NC_006038.1_cds_XP_451741.1_696</td>\n",
       "      <td>N/A</td>\n",
       "      <td>N/A</td>\n",
       "      <td>GO:0003755</td>\n",
       "      <td>peptidyl-prolyl cis-trans isomerase activity</td>\n",
       "      <td>GO:0000785;GO:0005730</td>\n",
       "      <td>chromatin;nucleolus</td>\n",
       "      <td>PPIase_FKBP_dom;NPL;PPIase_FKBP_dom</td>\n",
       "      <td>...</td>\n",
       "      <td>N/A</td>\n",
       "      <td>N/A</td>\n",
       "      <td>N/A</td>\n",
       "      <td>Coil;Nucleoplasmin core domain;disorder_predic...</td>\n",
       "      <td>Coil;G3DSA:2.60.120.340;mobidb-lite;SSF54534;C...</td>\n",
       "      <td>103-123;9-181;172-273;264-418;250-288;11-417;1...</td>\n",
       "      <td>AGAGGAAGAGGAAGAGGAAG</td>\n",
       "      <td>+</td>\n",
       "      <td>768</td>\n",
       "      <td>256-264</td>\n",
       "    </tr>\n",
       "    <tr>\n",
       "      <th>2</th>\n",
       "      <td>kluyveromyces_lactis_cds.fna</td>\n",
       "      <td>XP_451741.1</td>\n",
       "      <td>lcl|NC_006038.1_cds_XP_451741.1_696</td>\n",
       "      <td>N/A</td>\n",
       "      <td>N/A</td>\n",
       "      <td>GO:0003755</td>\n",
       "      <td>peptidyl-prolyl cis-trans isomerase activity</td>\n",
       "      <td>GO:0000785;GO:0005730</td>\n",
       "      <td>chromatin;nucleolus</td>\n",
       "      <td>PPIase_FKBP_dom;NPL;PPIase_FKBP_dom</td>\n",
       "      <td>...</td>\n",
       "      <td>N/A</td>\n",
       "      <td>N/A</td>\n",
       "      <td>N/A</td>\n",
       "      <td>Coil;Nucleoplasmin core domain;disorder_predic...</td>\n",
       "      <td>Coil;G3DSA:2.60.120.340;mobidb-lite;SSF54534;C...</td>\n",
       "      <td>103-123;9-181;172-273;264-418;250-288;11-417;1...</td>\n",
       "      <td>AGAGGAAGAGGAAGAGGAAG</td>\n",
       "      <td>+</td>\n",
       "      <td>762</td>\n",
       "      <td>254-262</td>\n",
       "    </tr>\n",
       "    <tr>\n",
       "      <th>3</th>\n",
       "      <td>kluyveromyces_lactis_cds.fna</td>\n",
       "      <td>XP_451741.1</td>\n",
       "      <td>lcl|NC_006038.1_cds_XP_451741.1_696</td>\n",
       "      <td>N/A</td>\n",
       "      <td>N/A</td>\n",
       "      <td>GO:0003755</td>\n",
       "      <td>peptidyl-prolyl cis-trans isomerase activity</td>\n",
       "      <td>GO:0000785;GO:0005730</td>\n",
       "      <td>chromatin;nucleolus</td>\n",
       "      <td>PPIase_FKBP_dom;NPL;PPIase_FKBP_dom</td>\n",
       "      <td>...</td>\n",
       "      <td>N/A</td>\n",
       "      <td>N/A</td>\n",
       "      <td>N/A</td>\n",
       "      <td>Coil;Nucleoplasmin core domain;disorder_predic...</td>\n",
       "      <td>Coil;G3DSA:2.60.120.340;mobidb-lite;SSF54534;C...</td>\n",
       "      <td>103-123;9-181;172-273;264-418;250-288;11-417;1...</td>\n",
       "      <td>AGAGGAAGAGGAAGAGGAAG</td>\n",
       "      <td>+</td>\n",
       "      <td>756</td>\n",
       "      <td>252-260</td>\n",
       "    </tr>\n",
       "    <tr>\n",
       "      <th>4</th>\n",
       "      <td>kluyveromyces_lactis_cds.fna</td>\n",
       "      <td>XP_453196.1</td>\n",
       "      <td>lcl|NC_006040.1_cds_XP_453196.1_2079</td>\n",
       "      <td>N/A</td>\n",
       "      <td>N/A</td>\n",
       "      <td>GO:0061133;GO:0070628</td>\n",
       "      <td>endopeptidase activator activity;proteasome bi...</td>\n",
       "      <td>GO:0008541;GO:0005634;GO:0005737</td>\n",
       "      <td>proteasome regulatory particle, lid subcomplex...</td>\n",
       "      <td>Rpn13/ADRM1_Pru;Rpn13/ADRM1_Pru</td>\n",
       "      <td>...</td>\n",
       "      <td>N/A</td>\n",
       "      <td>N/A</td>\n",
       "      <td>N/A</td>\n",
       "      <td>Coil;disorder_prediction;disorder_prediction;d...</td>\n",
       "      <td>Coil;mobidb-lite;mobidb-lite;mobidb-lite</td>\n",
       "      <td>152-186;168-206;183-198;168-182</td>\n",
       "      <td>AGAGGAAGAGGAAGAGGAAG</td>\n",
       "      <td>+</td>\n",
       "      <td>507</td>\n",
       "      <td>169-177</td>\n",
       "    </tr>\n",
       "    <tr>\n",
       "      <th>...</th>\n",
       "      <td>...</td>\n",
       "      <td>...</td>\n",
       "      <td>...</td>\n",
       "      <td>...</td>\n",
       "      <td>...</td>\n",
       "      <td>...</td>\n",
       "      <td>...</td>\n",
       "      <td>...</td>\n",
       "      <td>...</td>\n",
       "      <td>...</td>\n",
       "      <td>...</td>\n",
       "      <td>...</td>\n",
       "      <td>...</td>\n",
       "      <td>...</td>\n",
       "      <td>...</td>\n",
       "      <td>...</td>\n",
       "      <td>...</td>\n",
       "      <td>...</td>\n",
       "      <td>...</td>\n",
       "      <td>...</td>\n",
       "      <td>...</td>\n",
       "    </tr>\n",
       "    <tr>\n",
       "      <th>8688</th>\n",
       "      <td>aplosporella_prunicola_cds.fna</td>\n",
       "      <td>XP_033397713.1</td>\n",
       "      <td>lcl|NW_022983540.1_cds_XP_033397713.1_5413</td>\n",
       "      <td>N/A</td>\n",
       "      <td>N/A</td>\n",
       "      <td>N/A</td>\n",
       "      <td>N/A</td>\n",
       "      <td>N/A</td>\n",
       "      <td>N/A</td>\n",
       "      <td>N/A</td>\n",
       "      <td>...</td>\n",
       "      <td>N/A</td>\n",
       "      <td>N/A</td>\n",
       "      <td>N/A</td>\n",
       "      <td>disorder_prediction;Coil;disorder_prediction;d...</td>\n",
       "      <td>mobidb-lite;Coil;mobidb-lite;mobidb-lite;mobid...</td>\n",
       "      <td>665-684;47-72;290-306;105-131;513-527;665-724;...</td>\n",
       "      <td>AGAAGAGGAGGAGGAGGAGG</td>\n",
       "      <td>+</td>\n",
       "      <td>186</td>\n",
       "      <td>62-70</td>\n",
       "    </tr>\n",
       "    <tr>\n",
       "      <th>8689</th>\n",
       "      <td>aplosporella_prunicola_cds.fna</td>\n",
       "      <td>XP_033401083.1</td>\n",
       "      <td>lcl|NW_022983532.1_cds_XP_033401083.1_1800</td>\n",
       "      <td>GO:0000278;GO:0000226;GO:0007017</td>\n",
       "      <td>mitotic cell cycle;microtubule cytoskeleton or...</td>\n",
       "      <td>GO:0005525;GO:0003924;GO:0005200</td>\n",
       "      <td>GTP binding;GTPase activity;structural constit...</td>\n",
       "      <td>GO:0005737;GO:0005874</td>\n",
       "      <td>cytoplasm;microtubule</td>\n",
       "      <td>Tubulin_FtsZ_GTPase;Tubulin/FtsZ_2-layer-sand-...</td>\n",
       "      <td>...</td>\n",
       "      <td>N/A</td>\n",
       "      <td>N/A</td>\n",
       "      <td>N/A</td>\n",
       "      <td>disorder_prediction;beta_tubulin;Coil;disorder...</td>\n",
       "      <td>mobidb-lite;cd02187;Coil;mobidb-lite;Coil</td>\n",
       "      <td>421-446;2-426;408-428;431-446;323-343</td>\n",
       "      <td>GCTTTCTTGCATTGGTACAC</td>\n",
       "      <td>+</td>\n",
       "      <td>1177</td>\n",
       "      <td>393-400</td>\n",
       "    </tr>\n",
       "    <tr>\n",
       "      <th>8690</th>\n",
       "      <td>aplosporella_prunicola_cds.fna</td>\n",
       "      <td>XP_033401625.1</td>\n",
       "      <td>lcl|NW_022983531.1_cds_XP_033401625.1_1234</td>\n",
       "      <td>N/A</td>\n",
       "      <td>N/A</td>\n",
       "      <td>N/A</td>\n",
       "      <td>N/A</td>\n",
       "      <td>N/A</td>\n",
       "      <td>N/A</td>\n",
       "      <td>N/A</td>\n",
       "      <td>...</td>\n",
       "      <td>N/A</td>\n",
       "      <td>N/A</td>\n",
       "      <td>N/A</td>\n",
       "      <td>Coil;disorder_prediction;disorder_prediction;d...</td>\n",
       "      <td>Coil;mobidb-lite;mobidb-lite;mobidb-lite;mobid...</td>\n",
       "      <td>233-271;170-190;1-48;1-279;136-152;448-470;7-5...</td>\n",
       "      <td>AGAAGAGGAGGAGGAGGAGG</td>\n",
       "      <td>+</td>\n",
       "      <td>1356</td>\n",
       "      <td>452-460</td>\n",
       "    </tr>\n",
       "    <tr>\n",
       "      <th>8691</th>\n",
       "      <td>aplosporella_prunicola_cds.fna</td>\n",
       "      <td>XP_033402011.1</td>\n",
       "      <td>lcl|NW_022983531.1_cds_XP_033402011.1_1622</td>\n",
       "      <td>N/A</td>\n",
       "      <td>N/A</td>\n",
       "      <td>N/A</td>\n",
       "      <td>N/A</td>\n",
       "      <td>N/A</td>\n",
       "      <td>N/A</td>\n",
       "      <td>N/A</td>\n",
       "      <td>...</td>\n",
       "      <td>N/A</td>\n",
       "      <td>N/A</td>\n",
       "      <td>N/A</td>\n",
       "      <td>disorder_prediction;disorder_prediction;disord...</td>\n",
       "      <td>mobidb-lite;mobidb-lite;mobidb-lite;mobidb-lit...</td>\n",
       "      <td>136-150;99-264;169-208;216-232;1-28;150-170;45-85</td>\n",
       "      <td>AGAAGAGGAGGAGGAGGAGG</td>\n",
       "      <td>+</td>\n",
       "      <td>459</td>\n",
       "      <td>153-161</td>\n",
       "    </tr>\n",
       "    <tr>\n",
       "      <th>8692</th>\n",
       "      <td>aplosporella_prunicola_cds.fna</td>\n",
       "      <td>XP_033402633.1</td>\n",
       "      <td>lcl|NW_022983530.1_cds_XP_033402633.1_1120</td>\n",
       "      <td>N/A</td>\n",
       "      <td>N/A</td>\n",
       "      <td>GO:0016791;GO:0003993</td>\n",
       "      <td>phosphatase activity;acid phosphatase activity</td>\n",
       "      <td>GO:0009277</td>\n",
       "      <td>fungal-type cell wall</td>\n",
       "      <td>N/A</td>\n",
       "      <td>...</td>\n",
       "      <td>N/A</td>\n",
       "      <td>N/A</td>\n",
       "      <td>N/A</td>\n",
       "      <td>Non cytoplasmic domain;Signal peptide C-region...</td>\n",
       "      <td>NON_CYTOPLASMIC_DOMAIN;SIGNAL_PEPTIDE_C_REGION...</td>\n",
       "      <td>29-519;24-28;1-28;28-493;1-28;1-9;1-27;10-23;1...</td>\n",
       "      <td>AGAAGAGGAGGAGGAGGAGG</td>\n",
       "      <td>-</td>\n",
       "      <td>1250</td>\n",
       "      <td>417-424</td>\n",
       "    </tr>\n",
       "  </tbody>\n",
       "</table>\n",
       "<p>8693 rows × 37 columns</p>\n",
       "</div>"
      ],
      "text/plain": [
       "                        species_name         prot_id  \\\n",
       "0       kluyveromyces_lactis_cds.fna     XP_451741.1   \n",
       "1       kluyveromyces_lactis_cds.fna     XP_451741.1   \n",
       "2       kluyveromyces_lactis_cds.fna     XP_451741.1   \n",
       "3       kluyveromyces_lactis_cds.fna     XP_451741.1   \n",
       "4       kluyveromyces_lactis_cds.fna     XP_453196.1   \n",
       "...                              ...             ...   \n",
       "8688  aplosporella_prunicola_cds.fna  XP_033397713.1   \n",
       "8689  aplosporella_prunicola_cds.fna  XP_033401083.1   \n",
       "8690  aplosporella_prunicola_cds.fna  XP_033401625.1   \n",
       "8691  aplosporella_prunicola_cds.fna  XP_033402011.1   \n",
       "8692  aplosporella_prunicola_cds.fna  XP_033402633.1   \n",
       "\n",
       "                                         gene_id  \\\n",
       "0            lcl|NC_006038.1_cds_XP_451741.1_696   \n",
       "1            lcl|NC_006038.1_cds_XP_451741.1_696   \n",
       "2            lcl|NC_006038.1_cds_XP_451741.1_696   \n",
       "3            lcl|NC_006038.1_cds_XP_451741.1_696   \n",
       "4           lcl|NC_006040.1_cds_XP_453196.1_2079   \n",
       "...                                          ...   \n",
       "8688  lcl|NW_022983540.1_cds_XP_033397713.1_5413   \n",
       "8689  lcl|NW_022983532.1_cds_XP_033401083.1_1800   \n",
       "8690  lcl|NW_022983531.1_cds_XP_033401625.1_1234   \n",
       "8691  lcl|NW_022983531.1_cds_XP_033402011.1_1622   \n",
       "8692  lcl|NW_022983530.1_cds_XP_033402633.1_1120   \n",
       "\n",
       "                 biological_process_go  \\\n",
       "0                                  N/A   \n",
       "1                                  N/A   \n",
       "2                                  N/A   \n",
       "3                                  N/A   \n",
       "4                                  N/A   \n",
       "...                                ...   \n",
       "8688                               N/A   \n",
       "8689  GO:0000278;GO:0000226;GO:0007017   \n",
       "8690                               N/A   \n",
       "8691                               N/A   \n",
       "8692                               N/A   \n",
       "\n",
       "                             biological_process_go_name  \\\n",
       "0                                                   N/A   \n",
       "1                                                   N/A   \n",
       "2                                                   N/A   \n",
       "3                                                   N/A   \n",
       "4                                                   N/A   \n",
       "...                                                 ...   \n",
       "8688                                                N/A   \n",
       "8689  mitotic cell cycle;microtubule cytoskeleton or...   \n",
       "8690                                                N/A   \n",
       "8691                                                N/A   \n",
       "8692                                                N/A   \n",
       "\n",
       "                 molecular_function_go  \\\n",
       "0                           GO:0003755   \n",
       "1                           GO:0003755   \n",
       "2                           GO:0003755   \n",
       "3                           GO:0003755   \n",
       "4                GO:0061133;GO:0070628   \n",
       "...                                ...   \n",
       "8688                               N/A   \n",
       "8689  GO:0005525;GO:0003924;GO:0005200   \n",
       "8690                               N/A   \n",
       "8691                               N/A   \n",
       "8692             GO:0016791;GO:0003993   \n",
       "\n",
       "                             molecular_function_go_name  \\\n",
       "0          peptidyl-prolyl cis-trans isomerase activity   \n",
       "1          peptidyl-prolyl cis-trans isomerase activity   \n",
       "2          peptidyl-prolyl cis-trans isomerase activity   \n",
       "3          peptidyl-prolyl cis-trans isomerase activity   \n",
       "4     endopeptidase activator activity;proteasome bi...   \n",
       "...                                                 ...   \n",
       "8688                                                N/A   \n",
       "8689  GTP binding;GTPase activity;structural constit...   \n",
       "8690                                                N/A   \n",
       "8691                                                N/A   \n",
       "8692     phosphatase activity;acid phosphatase activity   \n",
       "\n",
       "                 cellular_component_go  \\\n",
       "0                GO:0000785;GO:0005730   \n",
       "1                GO:0000785;GO:0005730   \n",
       "2                GO:0000785;GO:0005730   \n",
       "3                GO:0000785;GO:0005730   \n",
       "4     GO:0008541;GO:0005634;GO:0005737   \n",
       "...                                ...   \n",
       "8688                               N/A   \n",
       "8689             GO:0005737;GO:0005874   \n",
       "8690                               N/A   \n",
       "8691                               N/A   \n",
       "8692                        GO:0009277   \n",
       "\n",
       "                             cellular_component_go_name  \\\n",
       "0                                   chromatin;nucleolus   \n",
       "1                                   chromatin;nucleolus   \n",
       "2                                   chromatin;nucleolus   \n",
       "3                                   chromatin;nucleolus   \n",
       "4     proteasome regulatory particle, lid subcomplex...   \n",
       "...                                                 ...   \n",
       "8688                                                N/A   \n",
       "8689                              cytoplasm;microtubule   \n",
       "8690                                                N/A   \n",
       "8691                                                N/A   \n",
       "8692                              fungal-type cell wall   \n",
       "\n",
       "                                                domains  ... repeats  \\\n",
       "0                   PPIase_FKBP_dom;NPL;PPIase_FKBP_dom  ...     N/A   \n",
       "1                   PPIase_FKBP_dom;NPL;PPIase_FKBP_dom  ...     N/A   \n",
       "2                   PPIase_FKBP_dom;NPL;PPIase_FKBP_dom  ...     N/A   \n",
       "3                   PPIase_FKBP_dom;NPL;PPIase_FKBP_dom  ...     N/A   \n",
       "4                       Rpn13/ADRM1_Pru;Rpn13/ADRM1_Pru  ...     N/A   \n",
       "...                                                 ...  ...     ...   \n",
       "8688                                                N/A  ...     N/A   \n",
       "8689  Tubulin_FtsZ_GTPase;Tubulin/FtsZ_2-layer-sand-...  ...     N/A   \n",
       "8690                                                N/A  ...     N/A   \n",
       "8691                                                N/A  ...     N/A   \n",
       "8692                                                N/A  ...     N/A   \n",
       "\n",
       "     repeat_accessions repeat_locations  \\\n",
       "0                  N/A              N/A   \n",
       "1                  N/A              N/A   \n",
       "2                  N/A              N/A   \n",
       "3                  N/A              N/A   \n",
       "4                  N/A              N/A   \n",
       "...                ...              ...   \n",
       "8688               N/A              N/A   \n",
       "8689               N/A              N/A   \n",
       "8690               N/A              N/A   \n",
       "8691               N/A              N/A   \n",
       "8692               N/A              N/A   \n",
       "\n",
       "                                         other_features  \\\n",
       "0     Coil;Nucleoplasmin core domain;disorder_predic...   \n",
       "1     Coil;Nucleoplasmin core domain;disorder_predic...   \n",
       "2     Coil;Nucleoplasmin core domain;disorder_predic...   \n",
       "3     Coil;Nucleoplasmin core domain;disorder_predic...   \n",
       "4     Coil;disorder_prediction;disorder_prediction;d...   \n",
       "...                                                 ...   \n",
       "8688  disorder_prediction;Coil;disorder_prediction;d...   \n",
       "8689  disorder_prediction;beta_tubulin;Coil;disorder...   \n",
       "8690  Coil;disorder_prediction;disorder_prediction;d...   \n",
       "8691  disorder_prediction;disorder_prediction;disord...   \n",
       "8692  Non cytoplasmic domain;Signal peptide C-region...   \n",
       "\n",
       "                               other_feature_accessions  \\\n",
       "0     Coil;G3DSA:2.60.120.340;mobidb-lite;SSF54534;C...   \n",
       "1     Coil;G3DSA:2.60.120.340;mobidb-lite;SSF54534;C...   \n",
       "2     Coil;G3DSA:2.60.120.340;mobidb-lite;SSF54534;C...   \n",
       "3     Coil;G3DSA:2.60.120.340;mobidb-lite;SSF54534;C...   \n",
       "4              Coil;mobidb-lite;mobidb-lite;mobidb-lite   \n",
       "...                                                 ...   \n",
       "8688  mobidb-lite;Coil;mobidb-lite;mobidb-lite;mobid...   \n",
       "8689          mobidb-lite;cd02187;Coil;mobidb-lite;Coil   \n",
       "8690  Coil;mobidb-lite;mobidb-lite;mobidb-lite;mobid...   \n",
       "8691  mobidb-lite;mobidb-lite;mobidb-lite;mobidb-lit...   \n",
       "8692  NON_CYTOPLASMIC_DOMAIN;SIGNAL_PEPTIDE_C_REGION...   \n",
       "\n",
       "                                other_feature_locations       targeting_guide  \\\n",
       "0     103-123;9-181;172-273;264-418;250-288;11-417;1...  AGAGGAAGAGGAAGAGGAAG   \n",
       "1     103-123;9-181;172-273;264-418;250-288;11-417;1...  AGAGGAAGAGGAAGAGGAAG   \n",
       "2     103-123;9-181;172-273;264-418;250-288;11-417;1...  AGAGGAAGAGGAAGAGGAAG   \n",
       "3     103-123;9-181;172-273;264-418;250-288;11-417;1...  AGAGGAAGAGGAAGAGGAAG   \n",
       "4                       152-186;168-206;183-198;168-182  AGAGGAAGAGGAAGAGGAAG   \n",
       "...                                                 ...                   ...   \n",
       "8688  665-684;47-72;290-306;105-131;513-527;665-724;...  AGAAGAGGAGGAGGAGGAGG   \n",
       "8689              421-446;2-426;408-428;431-446;323-343  GCTTTCTTGCATTGGTACAC   \n",
       "8690  233-271;170-190;1-48;1-279;136-152;448-470;7-5...  AGAAGAGGAGGAGGAGGAGG   \n",
       "8691  136-150;99-264;169-208;216-232;1-28;150-170;45-85  AGAAGAGGAGGAGGAGGAGG   \n",
       "8692  29-519;24-28;1-28;28-493;1-28;1-9;1-27;10-23;1...  AGAAGAGGAGGAGGAGGAGG   \n",
       "\n",
       "     target_strand guide_nuc_start_position prot_ranges  \n",
       "0                +                      321     107-115  \n",
       "1                +                      768     256-264  \n",
       "2                +                      762     254-262  \n",
       "3                +                      756     252-260  \n",
       "4                +                      507     169-177  \n",
       "...            ...                      ...         ...  \n",
       "8688             +                      186       62-70  \n",
       "8689             +                     1177     393-400  \n",
       "8690             +                     1356     452-460  \n",
       "8691             +                      459     153-161  \n",
       "8692             -                     1250     417-424  \n",
       "\n",
       "[8693 rows x 37 columns]"
      ]
     },
     "execution_count": 144,
     "metadata": {},
     "output_type": "execute_result"
    }
   ],
   "source": [
    "import pandas as pd\n",
    "\n",
    "interpro = pd.read_csv('interpro_results.csv')\n",
    "interpro.fillna('N/A', inplace=True)\n",
    "interpro\n"
   ]
  },
  {
   "cell_type": "code",
   "execution_count": 145,
   "metadata": {},
   "outputs": [
    {
     "data": {
      "text/plain": [
       "['AGAGGAAGAGGAAGAGGAAG',\n",
       " 'GCTGGTGACACTCACTTGGG',\n",
       " 'AGAAGAGGAGGAGGAGGAGG',\n",
       " 'ATCCAATGGAGATTCCAAAC',\n",
       " 'GCTTTCTTGCATTGGTACAC',\n",
       " 'GAGGCTGGTATCTCCAAGGA',\n",
       " 'TGCTGTTGCTGTTGCTGCTG',\n",
       " 'TCTTCATCGGCTTCGGCGAA']"
      ]
     },
     "execution_count": 145,
     "metadata": {},
     "output_type": "execute_result"
    }
   ],
   "source": [
    "guides = interpro['targeting_guide'].unique().tolist()\n",
    "guides"
   ]
  },
  {
   "cell_type": "code",
   "execution_count": 146,
   "metadata": {},
   "outputs": [
    {
     "data": {
      "text/html": [
       "<div>\n",
       "<style scoped>\n",
       "    .dataframe tbody tr th:only-of-type {\n",
       "        vertical-align: middle;\n",
       "    }\n",
       "\n",
       "    .dataframe tbody tr th {\n",
       "        vertical-align: top;\n",
       "    }\n",
       "\n",
       "    .dataframe thead th {\n",
       "        text-align: right;\n",
       "    }\n",
       "</style>\n",
       "<table border=\"1\" class=\"dataframe\">\n",
       "  <thead>\n",
       "    <tr style=\"text-align: right;\">\n",
       "      <th></th>\n",
       "      <th>species_name</th>\n",
       "      <th>prot_id</th>\n",
       "      <th>family_locations</th>\n",
       "      <th>guide_nuc_start_position</th>\n",
       "      <th>prot_ranges</th>\n",
       "    </tr>\n",
       "  </thead>\n",
       "  <tbody>\n",
       "    <tr>\n",
       "      <th>17</th>\n",
       "      <td>trichodelitschia_bisporula_cds.fna</td>\n",
       "      <td>KAF2401180.1</td>\n",
       "      <td>41-58|88-99|108-126|152-164|212-224|230-239|24...</td>\n",
       "      <td>1177</td>\n",
       "      <td>393-400</td>\n",
       "    </tr>\n",
       "    <tr>\n",
       "      <th>60</th>\n",
       "      <td>aspergillus_fischeri_cds.fna</td>\n",
       "      <td>XP_001264678.1</td>\n",
       "      <td>41-58|88-99|108-126|152-164|212-224|230-239|24...</td>\n",
       "      <td>1177</td>\n",
       "      <td>393-400</td>\n",
       "    </tr>\n",
       "    <tr>\n",
       "      <th>76</th>\n",
       "      <td>nemania_maritima_azju_v1_0_cds.fna</td>\n",
       "      <td>fgenesh1_pm.5_#_35</td>\n",
       "      <td>1-428;347-370|311-329|41-58|212-224|265-281|37...</td>\n",
       "      <td>1177</td>\n",
       "      <td>393-400</td>\n",
       "    </tr>\n",
       "    <tr>\n",
       "      <th>78</th>\n",
       "      <td>nemania_serpens_cds.fna</td>\n",
       "      <td>KAI1195749.1</td>\n",
       "      <td>41-58|88-99|108-126|152-164|212-224|230-239|24...</td>\n",
       "      <td>1177</td>\n",
       "      <td>393-400</td>\n",
       "    </tr>\n",
       "    <tr>\n",
       "      <th>86</th>\n",
       "      <td>aspergillus_pseudocaelatus_cds.fna</td>\n",
       "      <td>KAE8416686.1</td>\n",
       "      <td>10-30|51-70|93-104|106-130|132-150|151-172|176...</td>\n",
       "      <td>1177</td>\n",
       "      <td>393-400</td>\n",
       "    </tr>\n",
       "    <tr>\n",
       "      <th>...</th>\n",
       "      <td>...</td>\n",
       "      <td>...</td>\n",
       "      <td>...</td>\n",
       "      <td>...</td>\n",
       "      <td>...</td>\n",
       "    </tr>\n",
       "    <tr>\n",
       "      <th>8647</th>\n",
       "      <td>xylographa_trunciseda_cds.fna</td>\n",
       "      <td>MCJ1401122.1</td>\n",
       "      <td>151-172|106-130|190-210|132-150|370-398|176-18...</td>\n",
       "      <td>1177</td>\n",
       "      <td>393-400</td>\n",
       "    </tr>\n",
       "    <tr>\n",
       "      <th>8649</th>\n",
       "      <td>colletotrichum_higginsianum_cds.fna</td>\n",
       "      <td>XP_018151417.1</td>\n",
       "      <td>41-58|88-99|108-126|152-164|212-224|230-239|24...</td>\n",
       "      <td>1177</td>\n",
       "      <td>393-400</td>\n",
       "    </tr>\n",
       "    <tr>\n",
       "      <th>8661</th>\n",
       "      <td>trichoderma_arundinaceum_cds.fna</td>\n",
       "      <td>RFU78125</td>\n",
       "      <td>41-58|88-99|108-126|152-164|212-224|230-239|24...</td>\n",
       "      <td>1177</td>\n",
       "      <td>393-400</td>\n",
       "    </tr>\n",
       "    <tr>\n",
       "      <th>8668</th>\n",
       "      <td>annulohypoxylon_moriforme_cds.fna</td>\n",
       "      <td>KAI1457021.1</td>\n",
       "      <td>10-30|51-70|93-104|106-130|132-150|151-172|176...</td>\n",
       "      <td>1177</td>\n",
       "      <td>393-400</td>\n",
       "    </tr>\n",
       "    <tr>\n",
       "      <th>8689</th>\n",
       "      <td>aplosporella_prunicola_cds.fna</td>\n",
       "      <td>XP_033401083.1</td>\n",
       "      <td>41-58|88-99|108-126|152-164|212-224|230-239|24...</td>\n",
       "      <td>1177</td>\n",
       "      <td>393-400</td>\n",
       "    </tr>\n",
       "  </tbody>\n",
       "</table>\n",
       "<p>558 rows × 5 columns</p>\n",
       "</div>"
      ],
      "text/plain": [
       "                             species_name             prot_id  \\\n",
       "17     trichodelitschia_bisporula_cds.fna        KAF2401180.1   \n",
       "60           aspergillus_fischeri_cds.fna      XP_001264678.1   \n",
       "76     nemania_maritima_azju_v1_0_cds.fna  fgenesh1_pm.5_#_35   \n",
       "78                nemania_serpens_cds.fna        KAI1195749.1   \n",
       "86     aspergillus_pseudocaelatus_cds.fna        KAE8416686.1   \n",
       "...                                   ...                 ...   \n",
       "8647        xylographa_trunciseda_cds.fna        MCJ1401122.1   \n",
       "8649  colletotrichum_higginsianum_cds.fna      XP_018151417.1   \n",
       "8661     trichoderma_arundinaceum_cds.fna            RFU78125   \n",
       "8668    annulohypoxylon_moriforme_cds.fna        KAI1457021.1   \n",
       "8689       aplosporella_prunicola_cds.fna      XP_033401083.1   \n",
       "\n",
       "                                       family_locations  \\\n",
       "17    41-58|88-99|108-126|152-164|212-224|230-239|24...   \n",
       "60    41-58|88-99|108-126|152-164|212-224|230-239|24...   \n",
       "76    1-428;347-370|311-329|41-58|212-224|265-281|37...   \n",
       "78    41-58|88-99|108-126|152-164|212-224|230-239|24...   \n",
       "86    10-30|51-70|93-104|106-130|132-150|151-172|176...   \n",
       "...                                                 ...   \n",
       "8647  151-172|106-130|190-210|132-150|370-398|176-18...   \n",
       "8649  41-58|88-99|108-126|152-164|212-224|230-239|24...   \n",
       "8661  41-58|88-99|108-126|152-164|212-224|230-239|24...   \n",
       "8668  10-30|51-70|93-104|106-130|132-150|151-172|176...   \n",
       "8689  41-58|88-99|108-126|152-164|212-224|230-239|24...   \n",
       "\n",
       "      guide_nuc_start_position prot_ranges  \n",
       "17                        1177     393-400  \n",
       "60                        1177     393-400  \n",
       "76                        1177     393-400  \n",
       "78                        1177     393-400  \n",
       "86                        1177     393-400  \n",
       "...                        ...         ...  \n",
       "8647                      1177     393-400  \n",
       "8649                      1177     393-400  \n",
       "8661                      1177     393-400  \n",
       "8668                      1177     393-400  \n",
       "8689                      1177     393-400  \n",
       "\n",
       "[558 rows x 5 columns]"
      ]
     },
     "execution_count": 146,
     "metadata": {},
     "output_type": "execute_result"
    }
   ],
   "source": [
    "interpro[interpro['targeting_guide'] == 'GCTTTCTTGCATTGGTACAC'][['species_name', 'prot_id', 'family_locations', 'guide_nuc_start_position', 'prot_ranges']]"
   ]
  },
  {
   "cell_type": "code",
   "execution_count": 166,
   "metadata": {},
   "outputs": [],
   "source": [
    "def parse_names(s):\n",
    "    return s.split(';')\n",
    "\n",
    "def parse_ranges(ranges_str):\n",
    "    ranges = list()\n",
    "    for range_group in ranges_str.split(';'):\n",
    "        if '|' in range_group:\n",
    "            sub_ranges = list()\n",
    "            for r in range_group.split('|'):\n",
    "                start, end = map(int, r.split('-'))\n",
    "                sub_ranges.append((start, end))\n",
    "            ranges.append(sub_ranges)\n",
    "        else:\n",
    "            start, end = map(int, range_group.split('-'))\n",
    "            ranges.append([(start, end)])\n",
    "        \n",
    "    return ranges\n",
    "\n",
    "def find_ranges_for_prot_range(ranges, prot_range):\n",
    "    prot_start, prot_end = map(int, prot_range.split('-'))\n",
    "    matching_idx = list()\n",
    "    for idx, rlist in enumerate(ranges):\n",
    "        for start, end in rlist:\n",
    "            # Check if prot_range overlaps with the range\n",
    "            if prot_start >= start and prot_end <= end:\n",
    "                matching_idx.append(idx)\n",
    "    return matching_idx\n",
    "    \n",
    "def find_target_families(row):\n",
    "    locs_str = row['family_locations']\n",
    "    \n",
    "    if locs_str == 'N/A':\n",
    "        return []\n",
    "\n",
    "    names = parse_names(row['families'])\n",
    "    acc = parse_names(row['family_accessions'])\n",
    "    ranges = parse_ranges(row['family_locations'])\n",
    "\n",
    "    prot_range = row['prot_ranges']\n",
    "    matching_idx = find_ranges_for_prot_range(ranges, prot_range)\n",
    "    \n",
    "    return list(set([f'{names[idx]} ({acc[idx]})' for idx in matching_idx]))\n",
    "\n",
    "def find_target_domains(row):\n",
    "    locs_str = row['domain_locations']\n",
    "    \n",
    "    if locs_str == 'N/A':\n",
    "        return []\n",
    "\n",
    "    names = parse_names(row['domains'])\n",
    "    acc = parse_names(row['domain_accessions'])\n",
    "    ranges = parse_ranges(row['domain_locations'])\n",
    "\n",
    "    prot_range = row['prot_ranges']\n",
    "    matching_idx = find_ranges_for_prot_range(ranges, prot_range)\n",
    "    \n",
    "    return list(set([f'{names[idx]} ({acc[idx]})' for idx in matching_idx]))\n",
    "\n",
    "def find_target_superfamilies(row):\n",
    "    locs_str = row['superfamily_locations']\n",
    "    \n",
    "    if locs_str == 'N/A':\n",
    "        return []\n",
    "\n",
    "    names = parse_names(row['superfamilies'])\n",
    "    acc = parse_names(row['superfamily_accessions'])\n",
    "    ranges = parse_ranges(row['superfamily_locations'])\n",
    "\n",
    "    prot_range = row['prot_ranges']\n",
    "    matching_idx = find_ranges_for_prot_range(ranges, prot_range)\n",
    "    \n",
    "    return list(set([f'{names[idx]} ({acc[idx]})' for idx in matching_idx]))\n",
    "\n",
    "def find_target_conserved_sites(row):\n",
    "    locs_str = row['conserved_site_locations']\n",
    "    \n",
    "    if locs_str == 'N/A':\n",
    "        return []\n",
    "\n",
    "    names = parse_names(row['conserved_sites'])\n",
    "    acc = parse_names(row['conserved_site_accessions'])\n",
    "    ranges = parse_ranges(row['conserved_site_locations'])\n",
    "\n",
    "    prot_range = row['prot_ranges']\n",
    "    matching_idx = find_ranges_for_prot_range(ranges, prot_range)\n",
    "    \n",
    "    return list(set([f'{names[idx]} ({acc[idx]})' for idx in matching_idx]))\n",
    "\n",
    "def find_target_repeats(row):\n",
    "    locs_str = row['repeat_locations']\n",
    "    \n",
    "    if locs_str == 'N/A':\n",
    "        return []\n",
    "\n",
    "    names = parse_names(row['repeats'])\n",
    "    acc = parse_names(row['repeat_accessions'])\n",
    "    ranges = parse_ranges(row['repeat_locations'])\n",
    "\n",
    "    prot_range = row['prot_ranges']\n",
    "    matching_idx = find_ranges_for_prot_range(ranges, prot_range)\n",
    "    \n",
    "    return list(set([f'{names[idx]} ({acc[idx]})' for idx in matching_idx]))\n",
    "\n",
    "def find_target_active_sites(row):\n",
    "    locs_str = row['active_site_locations']\n",
    "    \n",
    "    if locs_str == 'N/A':\n",
    "        return []\n",
    "\n",
    "    names = parse_names(row['active_sites'])\n",
    "    acc = parse_names(row['active_site_accessions'])\n",
    "    ranges = parse_ranges(locs_str)\n",
    "\n",
    "    prot_range = row['prot_ranges']\n",
    "    matching_idx = find_ranges_for_prot_range(ranges, prot_range)\n",
    "    \n",
    "    return list(set([f'{names[idx]} ({acc[idx]})' for idx in matching_idx]))\n",
    "\n",
    "def find_target_binding_sites(row):\n",
    "    locs_str = row['binding_site_locations']\n",
    "    \n",
    "    if locs_str == 'N/A':\n",
    "        return []\n",
    "\n",
    "    names = parse_names(row['binding_sites'])\n",
    "    acc = parse_names(row['binding_site_accessions'])\n",
    "    ranges = parse_ranges(locs_str)\n",
    "\n",
    "    prot_range = row['prot_ranges']\n",
    "    matching_idx = find_ranges_for_prot_range(ranges, prot_range)\n",
    "    \n",
    "    return list(set([f'{names[idx]} ({acc[idx]})' for idx in matching_idx]))\n",
    "\n",
    "def find_target_other_features(row):\n",
    "    locs_str = row['other_feature_locations']\n",
    "    \n",
    "    if locs_str == 'N/A':\n",
    "        return []\n",
    "\n",
    "    names = parse_names(row['other_features'])\n",
    "    acc = parse_names(row['other_feature_accessions'])\n",
    "    ranges = parse_ranges(locs_str)\n",
    "\n",
    "    prot_range = row['prot_ranges']\n",
    "    matching_idx = find_ranges_for_prot_range(ranges, prot_range)\n",
    "    \n",
    "    return list(set([f'{names[idx]} ({acc[idx]})' for idx in matching_idx]))\n",
    "\n"
   ]
  },
  {
   "cell_type": "code",
   "execution_count": 148,
   "metadata": {},
   "outputs": [
    {
     "data": {
      "text/plain": [
       "[]                                                                            5440\n",
       "[Transl_elong_EF1A_euk/arc (IPR004539), TRAFAC_GTPase_members (IPR050100)]     725\n",
       "[Tubulin (IPR000217)]                                                          555\n",
       "[Hsp_70_fam (IPR013126)]                                                       368\n",
       "[ABCF_EF3_subfamily (IPR050611)]                                                48\n",
       "                                                                              ... \n",
       "[TAF7 (IPR037817)]                                                               1\n",
       "[Sec62 (IPR004728)]                                                              1\n",
       "[tRNA_Ile_lys_synt (IPR012094)]                                                  1\n",
       "[Gfo/Idh/MocA_Oxidoreductases (IPR051450)]                                       1\n",
       "[His_Pase_clade-2 (IPR000560), Histidine_acid_Pase_euk (IPR016274)]              1\n",
       "Name: count, Length: 507, dtype: int64"
      ]
     },
     "execution_count": 148,
     "metadata": {},
     "output_type": "execute_result"
    }
   ],
   "source": [
    "interpro.apply(find_target_families, axis=1).value_counts()"
   ]
  },
  {
   "cell_type": "code",
   "execution_count": 149,
   "metadata": {},
   "outputs": [
    {
     "data": {
      "text/plain": [
       "[]                                                                    7593\n",
       "[T_Tr_GTP-bd_dom (IPR000795)]                                          735\n",
       "[REJ_dom (IPR014010)]                                                   58\n",
       "[ABC_transporter-like_ATP-bd (IPR003439), AAA+_ATPase (IPR003593)]      55\n",
       "[BIP_NBD (IPR042050)]                                                   47\n",
       "                                                                      ... \n",
       "[SSU_processome_Utp12 (IPR007148)]                                       1\n",
       "[DNA2/NAM7-like_C (IPR041679), SF1_C_Upf1 (IPR047187)]                   1\n",
       "[Sulf_transp (IPR007272)]                                                1\n",
       "[DUS-like_FMN-bd (IPR035587)]                                            1\n",
       "[Cation/H_antiporter_C (IPR013928)]                                      1\n",
       "Name: count, Length: 98, dtype: int64"
      ]
     },
     "execution_count": 149,
     "metadata": {},
     "output_type": "execute_result"
    }
   ],
   "source": [
    "interpro.apply(find_target_domains, axis=1).value_counts()"
   ]
  },
  {
   "cell_type": "code",
   "execution_count": 150,
   "metadata": {},
   "outputs": [
    {
     "data": {
      "text/plain": [
       "[]                                                 6448\n",
       "[P-loop_NTPase (IPR027417)]                         774\n",
       "[Tub_FtsZ_C (IPR008280), Tubulin_C (IPR023123)]     557\n",
       "[ATPase_NBD (IPR043129)]                            367\n",
       "[ARM-type_fold (IPR016024)]                          51\n",
       "                                                   ... \n",
       "[PLC-like_Pdiesterase_TIM-brl (IPR017946)]            1\n",
       "[RMI1_N_C_sf (IPR042470)]                             1\n",
       "[IPNS-like_sf (IPR027443)]                            1\n",
       "[C2_domain_sf (IPR035892)]                            1\n",
       "[Cyt_P450_sf (IPR036396)]                             1\n",
       "Name: count, Length: 121, dtype: int64"
      ]
     },
     "execution_count": 150,
     "metadata": {},
     "output_type": "execute_result"
    }
   ],
   "source": [
    "interpro.apply(find_target_superfamilies, axis=1).value_counts()"
   ]
  },
  {
   "cell_type": "code",
   "execution_count": 151,
   "metadata": {},
   "outputs": [
    {
     "data": {
      "text/plain": [
       "[Tubulin (IPR000217)]    555\n",
       "[]                         3\n",
       "Name: count, dtype: int64"
      ]
     },
     "execution_count": 151,
     "metadata": {},
     "output_type": "execute_result"
    }
   ],
   "source": [
    "interpro[interpro['targeting_guide'] == 'GCTTTCTTGCATTGGTACAC'].apply(find_target_families, axis=1).value_counts()"
   ]
  },
  {
   "cell_type": "markdown",
   "metadata": {},
   "source": [
    "# [] MEANS THERE ARE 3 PROTEINS WHERE THIS GUIDE DOESN'T TARGET ANY SUPERFAMILIES IN ITS RANGE. It does not mean that there are no superfamilies in that protein."
   ]
  },
  {
   "cell_type": "code",
   "execution_count": 152,
   "metadata": {},
   "outputs": [
    {
     "data": {
      "text/plain": [
       "[]    558\n",
       "Name: count, dtype: int64"
      ]
     },
     "execution_count": 152,
     "metadata": {},
     "output_type": "execute_result"
    }
   ],
   "source": [
    "interpro[interpro['targeting_guide'] == 'GCTTTCTTGCATTGGTACAC'].apply(find_target_domains, axis=1).value_counts()"
   ]
  },
  {
   "cell_type": "code",
   "execution_count": 153,
   "metadata": {},
   "outputs": [
    {
     "data": {
      "text/plain": [
       "[Tub_FtsZ_C (IPR008280), Tubulin_C (IPR023123)]    557\n",
       "[]                                                   1\n",
       "Name: count, dtype: int64"
      ]
     },
     "execution_count": 153,
     "metadata": {},
     "output_type": "execute_result"
    }
   ],
   "source": [
    "interpro[interpro['targeting_guide'] == 'GCTTTCTTGCATTGGTACAC'].apply(find_target_superfamilies, axis=1).value_counts()"
   ]
  },
  {
   "cell_type": "code",
   "execution_count": 154,
   "metadata": {},
   "outputs": [
    {
     "data": {
      "text/plain": [
       "[]    558\n",
       "Name: count, dtype: int64"
      ]
     },
     "execution_count": 154,
     "metadata": {},
     "output_type": "execute_result"
    }
   ],
   "source": [
    "interpro[interpro['targeting_guide'] == 'GCTTTCTTGCATTGGTACAC'].apply(find_target_conserved_sites, axis=1).value_counts()"
   ]
  },
  {
   "cell_type": "code",
   "execution_count": 155,
   "metadata": {},
   "outputs": [
    {
     "data": {
      "text/plain": [
       "[]    558\n",
       "Name: count, dtype: int64"
      ]
     },
     "execution_count": 155,
     "metadata": {},
     "output_type": "execute_result"
    }
   ],
   "source": [
    "interpro[interpro['targeting_guide'] == 'GCTTTCTTGCATTGGTACAC'].apply(find_target_repeats, axis=1).value_counts()"
   ]
  },
  {
   "cell_type": "code",
   "execution_count": 156,
   "metadata": {},
   "outputs": [
    {
     "data": {
      "text/plain": [
       "[]    558\n",
       "Name: count, dtype: int64"
      ]
     },
     "execution_count": 156,
     "metadata": {},
     "output_type": "execute_result"
    }
   ],
   "source": [
    "interpro[interpro['targeting_guide'] == 'GCTTTCTTGCATTGGTACAC'].apply(find_target_active_sites, axis=1).value_counts()"
   ]
  },
  {
   "cell_type": "code",
   "execution_count": 157,
   "metadata": {},
   "outputs": [
    {
     "data": {
      "text/plain": [
       "[beta_tubulin (cd02187)]                                                     545\n",
       "[beta_tubulin (cd02187), Cytoplasmic domain (CYTOPLASMIC_DOMAIN)]              9\n",
       "[Non cytoplasmic domain (NON_CYTOPLASMIC_DOMAIN), beta_tubulin (cd02187)]      3\n",
       "[]                                                                             1\n",
       "Name: count, dtype: int64"
      ]
     },
     "execution_count": 157,
     "metadata": {},
     "output_type": "execute_result"
    }
   ],
   "source": [
    "interpro[interpro['targeting_guide'] == 'GCTTTCTTGCATTGGTACAC'].apply(find_target_other_features, axis=1).value_counts()"
   ]
  },
  {
   "cell_type": "markdown",
   "metadata": {},
   "source": [
    "# Guide GAGGCTGGTATCTCCAAGGA"
   ]
  },
  {
   "cell_type": "code",
   "execution_count": 161,
   "metadata": {},
   "outputs": [
    {
     "data": {
      "text/plain": [
       "[T_Tr_GTP-bd_dom (IPR000795)]    735\n",
       "[]                                 2\n",
       "Name: count, dtype: int64"
      ]
     },
     "execution_count": 161,
     "metadata": {},
     "output_type": "execute_result"
    }
   ],
   "source": [
    "interpro[interpro['targeting_guide'] == 'GAGGCTGGTATCTCCAAGGA'].apply(find_target_domains, axis=1).value_counts()"
   ]
  },
  {
   "cell_type": "markdown",
   "metadata": {},
   "source": [
    "There are 735/737 proteins where this guide cuts in the T_Tr_GTP-bd_dom (IPR000795) domain."
   ]
  },
  {
   "cell_type": "code",
   "execution_count": 162,
   "metadata": {},
   "outputs": [
    {
     "data": {
      "text/plain": [
       "[Transl_elong_EF1A_euk/arc (IPR004539), TRAFAC_GTPase_members (IPR050100)]    725\n",
       "[TRAFAC_GTPase_members (IPR050100)]                                             7\n",
       "[]                                                                              3\n",
       "[Transl_elong_EF1A_euk/arc (IPR004539)]                                         2\n",
       "Name: count, dtype: int64"
      ]
     },
     "execution_count": 162,
     "metadata": {},
     "output_type": "execute_result"
    }
   ],
   "source": [
    "interpro[interpro['targeting_guide'] == 'GAGGCTGGTATCTCCAAGGA'].apply(find_target_families, axis=1).value_counts()"
   ]
  },
  {
   "cell_type": "markdown",
   "metadata": {},
   "source": [
    "In words: Out of 737 genes which this guide targets, there are 725 proteins where this guide cuts in \n",
    "both these two families [Transl_elong_EF1A_euk/arc (IPR004539), TRAFAC_GTPase_members (IPR050100)].\n",
    "There are 7 proteins which this guide cuts in the TRAFAC_GTPase_members (IPR050100) family, and\n",
    "2 more that are cut in Transl_elong_EF1A_euk/arc (IPR004539) family."
   ]
  },
  {
   "cell_type": "code",
   "execution_count": 163,
   "metadata": {},
   "outputs": [
    {
     "data": {
      "text/plain": [
       "[P-loop_NTPase (IPR027417)]    735\n",
       "[]                               2\n",
       "Name: count, dtype: int64"
      ]
     },
     "execution_count": 163,
     "metadata": {},
     "output_type": "execute_result"
    }
   ],
   "source": [
    "interpro[interpro['targeting_guide'] == 'GAGGCTGGTATCTCCAAGGA'].apply(find_target_superfamilies, axis=1).value_counts()"
   ]
  },
  {
   "cell_type": "code",
   "execution_count": 164,
   "metadata": {},
   "outputs": [
    {
     "data": {
      "text/plain": [
       "[]    737\n",
       "Name: count, dtype: int64"
      ]
     },
     "execution_count": 164,
     "metadata": {},
     "output_type": "execute_result"
    }
   ],
   "source": [
    "interpro[interpro['targeting_guide'] == 'GAGGCTGGTATCTCCAAGGA'].apply(find_target_conserved_sites, axis=1).value_counts()"
   ]
  },
  {
   "cell_type": "code",
   "execution_count": 165,
   "metadata": {},
   "outputs": [
    {
     "data": {
      "text/plain": [
       "[]    737\n",
       "Name: count, dtype: int64"
      ]
     },
     "execution_count": 165,
     "metadata": {},
     "output_type": "execute_result"
    }
   ],
   "source": [
    "interpro[interpro['targeting_guide'] == 'GAGGCTGGTATCTCCAAGGA'].apply(find_target_active_sites, axis=1).value_counts()"
   ]
  },
  {
   "cell_type": "code",
   "execution_count": 167,
   "metadata": {},
   "outputs": [
    {
     "data": {
      "text/plain": [
       "[]    737\n",
       "Name: count, dtype: int64"
      ]
     },
     "execution_count": 167,
     "metadata": {},
     "output_type": "execute_result"
    }
   ],
   "source": [
    "interpro[interpro['targeting_guide'] == 'GAGGCTGGTATCTCCAAGGA'].apply(find_target_binding_sites, axis=1).value_counts()"
   ]
  },
  {
   "cell_type": "code",
   "execution_count": 168,
   "metadata": {},
   "outputs": [
    {
     "data": {
      "text/plain": [
       "[EF1_alpha (cd01883)]                                                     709\n",
       "[]                                                                         17\n",
       "[Non cytoplasmic domain (NON_CYTOPLASMIC_DOMAIN), EF1_alpha (cd01883)]      5\n",
       "[EF1_alpha (cd01883), Cytoplasmic domain (CYTOPLASMIC_DOMAIN)]              4\n",
       "[Spurious_ORF_225 (ANF00225)]                                               2\n",
       "Name: count, dtype: int64"
      ]
     },
     "execution_count": 168,
     "metadata": {},
     "output_type": "execute_result"
    }
   ],
   "source": [
    "interpro[interpro['targeting_guide'] == 'GAGGCTGGTATCTCCAAGGA'].apply(find_target_other_features, axis=1).value_counts()"
   ]
  }
 ],
 "metadata": {
  "kernelspec": {
   "display_name": "allegro",
   "language": "python",
   "name": "python3"
  },
  "language_info": {
   "codemirror_mode": {
    "name": "ipython",
    "version": 3
   },
   "file_extension": ".py",
   "mimetype": "text/x-python",
   "name": "python",
   "nbconvert_exporter": "python",
   "pygments_lexer": "ipython3",
   "version": "3.10.13"
  }
 },
 "nbformat": 4,
 "nbformat_minor": 2
}
