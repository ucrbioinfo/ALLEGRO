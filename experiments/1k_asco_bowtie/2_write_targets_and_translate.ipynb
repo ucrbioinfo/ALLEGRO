{
 "cells": [
  {
   "cell_type": "code",
   "execution_count": 2,
   "metadata": {},
   "outputs": [],
   "source": [
    "import os\n",
    "import re\n",
    "import pandas as pd\n",
    "from Bio.Seq import Seq\n",
    "from Bio.SeqRecord import SeqRecord\n",
    "from Bio import SeqIO"
   ]
  },
  {
   "cell_type": "code",
   "execution_count": 2,
   "metadata": {},
   "outputs": [],
   "source": [
    "\n",
    "files = os.listdir('out')\n",
    "\n",
    "for f in files:\n",
    "    targets = set()\n",
    "\n",
    "    with open(f'out/{f}', 'r') as inf:\n",
    "        lines = inf.readlines()\n",
    "\n",
    "        for l in lines:\n",
    "            if l.startswith(','):\n",
    "                continue\n",
    "\n",
    "            targets.add(l.split(',')[3])\n",
    "\n",
    "    records = SeqIO.parse(f'../../../ALLEGRO_Fungi_Downloader/data/fourdbs_concat_6_genes/cds/{f}', 'fasta')\n",
    "\n",
    "    with open(f'target_sequences/{f}', 'w') as outf:\n",
    "        for record in records:\n",
    "            if str(record.id) in targets:\n",
    "                SeqIO.write(record, outf, 'fasta')       "
   ]
  },
  {
   "cell_type": "code",
   "execution_count": 6,
   "metadata": {},
   "outputs": [
    {
     "name": "stderr",
     "output_type": "stream",
     "text": [
      "/home/amohs002/miniconda3/envs/allegro/lib/python3.10/site-packages/Bio/Seq.py:2334: BiopythonWarning: Partial codon, len(sequence) not a multiple of three. Explicitly trim the sequence or add trailing N before translation. This may become an error in future.\n",
      "  warnings.warn(\n"
     ]
    },
    {
     "name": "stdout",
     "output_type": "stream",
     "text": [
      "Translation completed and saved to 'translated_prot_sequences' folder.\n"
     ]
    }
   ],
   "source": [
    "import os\n",
    "import re\n",
    "from Bio import SeqIO\n",
    "from Bio.Seq import Seq\n",
    "from Bio.SeqRecord import SeqRecord\n",
    "\n",
    "# Define the input and output directories\n",
    "input_dir = 'target_sequences'\n",
    "output_dir = 'translated_prot_sequences'\n",
    "\n",
    "# Create the output directory if it doesn't exist\n",
    "os.makedirs(output_dir, exist_ok=True)\n",
    "\n",
    "# Process each file in the input directory\n",
    "for filename in os.listdir(input_dir):\n",
    "    if filename.endswith('.fna'):\n",
    "        input_path = os.path.join(input_dir, filename)\n",
    "        output_path = os.path.join(output_dir, filename)\n",
    "\n",
    "        # Read the nucleotide sequences from the input file\n",
    "        nucleotide_records = SeqIO.parse(input_path, 'fasta')\n",
    "        \n",
    "        # Translate the nucleotide sequences to protein sequences\n",
    "        protein_records = []\n",
    "        for record in nucleotide_records:\n",
    "            new_id = record.id\n",
    "            s = re.search(r'\\[protein_id=(.*?)\\]', record.description)\n",
    "            if s:\n",
    "                new_id = s.group(1)\n",
    "                \n",
    "            translated_seq = record.seq.translate(to_stop=True)\n",
    "            protein_record = SeqRecord(translated_seq, id=new_id, description=record.description)\n",
    "            protein_records.append(protein_record)\n",
    "        \n",
    "        # Write the translated protein sequences to the output file\n",
    "        with open(output_path, 'w') as output_file:\n",
    "            SeqIO.write(protein_records, output_file, 'fasta')\n",
    "\n",
    "print(\"Translation completed and saved to 'translated_prot_sequences' folder.\")\n"
   ]
  },
  {
   "cell_type": "code",
   "execution_count": 12,
   "metadata": {},
   "outputs": [],
   "source": [
    "import re\n",
    "\n",
    "files = os.listdir('target_sequences')\n",
    "\n",
    "prot_re = r'\\[protein_id=(.*?)\\]'\n",
    "\n",
    "for f in files:\n",
    "    records = SeqIO.parse(f'target_sequences/{f}', 'fasta')\n",
    "\n",
    "    collected_prot_ids = list()\n",
    "    for r in records:\n",
    "        m = re.search(prot_re, r.description)\n",
    "\n",
    "        if m:\n",
    "            collected_prot_ids.append(m.group(1))\n",
    "    \n",
    "    prot_f_name = f.replace('_cds.fna', '.faa')\n",
    "    records = SeqIO.parse(f'../../../ALLEGRO_Fungi_Downloader/data/fourdbs_concat_6_genes/proteomes/{prot_f_name}', 'fasta')\n",
    "    \n",
    "    with open(f'target_prot_sequences/{prot_f_name}', 'w') as outf:\n",
    "        for r in records:\n",
    "            if str(r.id) in collected_prot_ids:\n",
    "                SeqIO.write(r, outf, 'fasta')"
   ]
  }
 ],
 "metadata": {
  "kernelspec": {
   "display_name": "allegro",
   "language": "python",
   "name": "python3"
  },
  "language_info": {
   "codemirror_mode": {
    "name": "ipython",
    "version": 3
   },
   "file_extension": ".py",
   "mimetype": "text/x-python",
   "name": "python",
   "nbconvert_exporter": "python",
   "pygments_lexer": "ipython3",
   "version": "3.10.13"
  }
 },
 "nbformat": 4,
 "nbformat_minor": 2
}
